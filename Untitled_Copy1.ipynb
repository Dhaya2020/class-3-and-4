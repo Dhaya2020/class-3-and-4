{
  "cells": [
    {
      "cell_type": "markdown",
      "metadata": {
        "id": "view-in-github",
        "colab_type": "text"
      },
      "source": [
        "<a href=\"https://colab.research.google.com/github/Dhaya2020/class-3-and-4/blob/main/Untitled_Copy1.ipynb\" target=\"_parent\"><img src=\"https://colab.research.google.com/assets/colab-badge.svg\" alt=\"Open In Colab\"/></a>"
      ]
    },
    {
      "cell_type": "markdown",
      "id": "d441303c",
      "metadata": {
        "id": "d441303c"
      },
      "source": [
        "## Data type conversion"
      ]
    },
    {
      "cell_type": "code",
      "execution_count": null,
      "id": "67befd4f",
      "metadata": {
        "id": "67befd4f",
        "outputId": "e5f3900a-4528-4ad0-ba2f-d864b08920f5"
      },
      "outputs": [
        {
          "data": {
            "text/plain": [
              "10.0"
            ]
          },
          "execution_count": 1,
          "metadata": {},
          "output_type": "execute_result"
        }
      ],
      "source": [
        "float(10)"
      ]
    },
    {
      "cell_type": "code",
      "execution_count": null,
      "id": "5173d83c",
      "metadata": {
        "id": "5173d83c",
        "outputId": "cb382986-3539-4edc-f2b3-298b17d1c6ef"
      },
      "outputs": [
        {
          "data": {
            "text/plain": [
              "10"
            ]
          },
          "execution_count": 2,
          "metadata": {},
          "output_type": "execute_result"
        }
      ],
      "source": [
        "int(10.5)"
      ]
    },
    {
      "cell_type": "code",
      "execution_count": null,
      "id": "f9d3ca1b",
      "metadata": {
        "id": "f9d3ca1b",
        "outputId": "92225c3a-8dd4-4d5e-ae87-01ddfe61801b"
      },
      "outputs": [
        {
          "data": {
            "text/plain": [
              "5.5"
            ]
          },
          "execution_count": 3,
          "metadata": {},
          "output_type": "execute_result"
        }
      ],
      "source": [
        "float('5.5')"
      ]
    },
    {
      "cell_type": "code",
      "execution_count": null,
      "id": "73fe0ada",
      "metadata": {
        "id": "73fe0ada",
        "outputId": "f186bf21-4eba-455e-beb7-3ac92eb1bb79"
      },
      "outputs": [
        {
          "data": {
            "text/plain": [
              "'20'"
            ]
          },
          "execution_count": 4,
          "metadata": {},
          "output_type": "execute_result"
        }
      ],
      "source": [
        "str(20)"
      ]
    },
    {
      "cell_type": "markdown",
      "id": "b16e2c00",
      "metadata": {
        "id": "b16e2c00"
      },
      "source": [
        "## Convention of sequesnces from one to another"
      ]
    },
    {
      "cell_type": "code",
      "execution_count": null,
      "id": "da3e1be4",
      "metadata": {
        "id": "da3e1be4",
        "outputId": "e3756f4f-2165-4743-d9ef-67725a5760a4"
      },
      "outputs": [
        {
          "data": {
            "text/plain": [
              "{1, 2, 5, 7}"
            ]
          },
          "execution_count": 5,
          "metadata": {},
          "output_type": "execute_result"
        }
      ],
      "source": [
        "set([1, 2, 5, 7, 7])"
      ]
    },
    {
      "cell_type": "code",
      "execution_count": null,
      "id": "c5bd85c3",
      "metadata": {
        "id": "c5bd85c3",
        "outputId": "382e87da-d23e-49ae-8e85-3780f89b9d4f"
      },
      "outputs": [
        {
          "data": {
            "text/plain": [
              "(81, 68, 5)"
            ]
          },
          "execution_count": 7,
          "metadata": {},
          "output_type": "execute_result"
        }
      ],
      "source": [
        "tuple ({5, 81, 68, 68})"
      ]
    },
    {
      "cell_type": "code",
      "execution_count": null,
      "id": "9441d38e",
      "metadata": {
        "id": "9441d38e",
        "outputId": "10d5db8c-0417-4ae7-c3ea-9b4feed63800"
      },
      "outputs": [
        {
          "data": {
            "text/plain": [
              "['L', 'I', 'S', 'T']"
            ]
          },
          "execution_count": 8,
          "metadata": {},
          "output_type": "execute_result"
        }
      ],
      "source": [
        "list('LIST')"
      ]
    },
    {
      "cell_type": "code",
      "execution_count": null,
      "id": "ab1c6bca",
      "metadata": {
        "id": "ab1c6bca",
        "outputId": "8e42f388-e477-489e-95a6-ca291e81ee98"
      },
      "outputs": [
        {
          "name": "stdout",
          "output_type": "stream",
          "text": [
            "{'name': 'John', 10: 50}\n"
          ]
        }
      ],
      "source": [
        "print(dict([[\"name\", \"John\"], [10,50]]))"
      ]
    },
    {
      "cell_type": "markdown",
      "id": "6e42042f",
      "metadata": {
        "id": "6e42042f"
      },
      "source": [
        "## Type convertion"
      ]
    },
    {
      "cell_type": "markdown",
      "id": "52697e4f",
      "metadata": {
        "id": "52697e4f"
      },
      "source": [
        "## There are 2 types\n",
        "### * Implicit convertion\n",
        "### * Explicit Convertion"
      ]
    },
    {
      "cell_type": "code",
      "execution_count": null,
      "id": "c1bc9ada",
      "metadata": {
        "id": "c1bc9ada",
        "outputId": "40356d1d-9cfe-4cb0-add4-cc3fb898cbb2"
      },
      "outputs": [
        {
          "name": "stdout",
          "output_type": "stream",
          "text": [
            "datatype of int_var is: <class 'int'>\n",
            "datatype of float_var is: <class 'float'>\n",
            "The new value after conversion is: 642.7\n",
            "Datatype of conversion1 is: <class 'float'>\n"
          ]
        }
      ],
      "source": [
        "int_var = 587\n",
        "float_var = 55.7\n",
        "\n",
        "conversion1 = int_var + float_var\n",
        "\n",
        "print('datatype of int_var is:', type(int_var))\n",
        "print('datatype of float_var is:', type(float_var))\n",
        "print('The new value after conversion is:', conversion1)\n",
        "print('Datatype of conversion1 is:', type(conversion1))"
      ]
    },
    {
      "cell_type": "code",
      "execution_count": null,
      "id": "2311a2a1",
      "metadata": {
        "id": "2311a2a1",
        "outputId": "4047fce2-1fe9-46da-ba1e-c258fee43794"
      },
      "outputs": [
        {
          "name": "stdout",
          "output_type": "stream",
          "text": [
            "datatype of int_var is: <class 'int'>\n",
            "datatype of float_var is: <class 'float'>\n",
            "The new value after conversion is: 642.7\n",
            "Datatype of conversion1 is: <class 'float'>\n"
          ]
        }
      ],
      "source": [
        "int_var = 587\n",
        "string_var = float(\"55.7\")\n",
        "\n",
        "conversion1 = int_var + string_var\n",
        "\n",
        "print('datatype of int_var is:', type(int_var))\n",
        "print('datatype of float_var is:', type(float_var))\n",
        "print('The new value after conversion is:', conversion1)\n",
        "print('Datatype of conversion1 is:', type(conversion1))"
      ]
    },
    {
      "cell_type": "code",
      "execution_count": null,
      "id": "54f3e895",
      "metadata": {
        "id": "54f3e895",
        "outputId": "e1d1e9a3-296f-4f7d-b205-21c780b1c05c"
      },
      "outputs": [
        {
          "name": "stdout",
          "output_type": "stream",
          "text": [
            "datatype of int_var is: <class 'int'>\n",
            "datatype of float_var is: <class 'float'>\n",
            "The new value after conversion is: 642.7\n",
            "Datatype of conversion1 is: <class 'float'>\n"
          ]
        }
      ],
      "source": [
        "int_var = 587\n",
        "string_var = \"55.7\"\n",
        "\n",
        "conversion1 = (int_var) + float(string_var)\n",
        "\n",
        "print('datatype of int_var is:', type(int_var))\n",
        "print('datatype of float_var is:', type(float_var))\n",
        "print('The new value after conversion is:', conversion1)\n",
        "print('Datatype of conversion1 is:', type(conversion1))"
      ]
    },
    {
      "cell_type": "markdown",
      "id": "f6667504",
      "metadata": {
        "id": "f6667504"
      },
      "source": [
        "## Input"
      ]
    },
    {
      "cell_type": "code",
      "execution_count": null,
      "id": "4933830e",
      "metadata": {
        "id": "4933830e",
        "outputId": "a2518ce1-1577-46c7-f1c0-9ceb2096d462"
      },
      "outputs": [
        {
          "name": "stdout",
          "output_type": "stream",
          "text": [
            "Enter the number: 20\n",
            "70\n"
          ]
        }
      ],
      "source": [
        "num = input('Enter the number: ')\n",
        "\n",
        "add = int(num) + 50\n",
        "print(add)\n"
      ]
    },
    {
      "cell_type": "code",
      "execution_count": null,
      "id": "18af49af",
      "metadata": {
        "id": "18af49af",
        "outputId": "3238d729-e08b-41ab-d0c9-99668a2c745c"
      },
      "outputs": [
        {
          "name": "stdout",
          "output_type": "stream",
          "text": [
            "80\n"
          ]
        }
      ],
      "source": [
        "a = eval('10*8')\n",
        "print(a)"
      ]
    },
    {
      "cell_type": "code",
      "execution_count": null,
      "id": "7a096070",
      "metadata": {
        "scrolled": true,
        "id": "7a096070",
        "outputId": "d4e315ac-4f93-4c40-a844-b3b3bd297894"
      },
      "outputs": [
        {
          "name": "stdout",
          "output_type": "stream",
          "text": [
            "Enter the first number:1\n",
            "Enter the second number: 5\n",
            "15\n"
          ]
        }
      ],
      "source": [
        "num = input('Enter the first number:')\n",
        "num1= input('Enter the second number: ')\n",
        "\n",
        "add = num + num1\n",
        "print(add)"
      ]
    },
    {
      "cell_type": "markdown",
      "id": "97b359a9",
      "metadata": {
        "id": "97b359a9"
      },
      "source": [
        "## Operators\n",
        "\n"
      ]
    },
    {
      "cell_type": "code",
      "execution_count": null,
      "id": "6e27fb14",
      "metadata": {
        "id": "6e27fb14",
        "outputId": "98986e91-cd78-4cbb-f57d-bb125d8bc790"
      },
      "outputs": [
        {
          "name": "stdout",
          "output_type": "stream",
          "text": [
            "9\n",
            "-1\n",
            "20\n",
            "0.8\n",
            "<class 'int'>\n",
            "1024\n",
            "4\n"
          ]
        }
      ],
      "source": [
        "x = 4\n",
        "y = 5\n",
        "\n",
        "print(x + y)\n",
        "print(x - y)\n",
        "print(x * y)\n",
        "print(x/y)\n",
        "print(type(x//y))\n",
        "print(x**y)\n",
        "print(x%y)\n",
        "\n"
      ]
    },
    {
      "cell_type": "code",
      "execution_count": null,
      "id": "63e1bf5e",
      "metadata": {
        "id": "63e1bf5e",
        "outputId": "9e3c4e06-1258-4557-da98-0a500b346cc9"
      },
      "outputs": [
        {
          "data": {
            "text/plain": [
              "3"
            ]
          },
          "execution_count": 8,
          "metadata": {},
          "output_type": "execute_result"
        }
      ],
      "source": [
        "round(2.7)"
      ]
    },
    {
      "cell_type": "markdown",
      "id": "f291cfaa",
      "metadata": {
        "id": "f291cfaa"
      },
      "source": [
        "## Logical operators\n",
        "\n"
      ]
    },
    {
      "cell_type": "code",
      "execution_count": null,
      "id": "fe63180b",
      "metadata": {
        "scrolled": true,
        "id": "fe63180b",
        "outputId": "6aa39cc3-8723-4350-a68c-1c96cf25f143"
      },
      "outputs": [
        {
          "name": "stdout",
          "output_type": "stream",
          "text": [
            "False\n",
            "True\n",
            "False\n"
          ]
        }
      ],
      "source": [
        "x = True\n",
        "y = False\n",
        "\n",
        "print(x and y) #multiplication (dot operator - both condition has to be true)\n",
        "print(x or y)  # Addition (Add operator any one of the condition to be true)\n",
        "print(not x)\n"
      ]
    },
    {
      "cell_type": "markdown",
      "id": "6b995755",
      "metadata": {
        "id": "6b995755"
      },
      "source": [
        "## Assignment operators"
      ]
    },
    {
      "cell_type": "code",
      "execution_count": null,
      "id": "1987af5b",
      "metadata": {
        "id": "1987af5b"
      },
      "outputs": [],
      "source": [
        "x1 = 15\n",
        "y1 = 15\n",
        "\n",
        "x2 = 'Hello'\n",
        "y2 = 'Hello'\n",
        "\n",
        "x3 = [15, 2, 3]\n",
        "y3 = [15, 2, 3]\n",
        "\n",
        "x4 = (1, 2, 3)\n",
        "y4 = (1, 2, 3)\n",
        "\n",
        "x5 = {1, 5, 8}\n",
        "y5 = {1, 5, 8}"
      ]
    },
    {
      "cell_type": "code",
      "execution_count": null,
      "id": "9f8814f1",
      "metadata": {
        "id": "9f8814f1",
        "outputId": "efe31e0b-27b7-4728-a2cc-5db0e483f65b"
      },
      "outputs": [
        {
          "name": "stdout",
          "output_type": "stream",
          "text": [
            "True\n"
          ]
        }
      ],
      "source": [
        "print(x1 is y1 )"
      ]
    },
    {
      "cell_type": "code",
      "execution_count": null,
      "id": "489a72d7",
      "metadata": {
        "id": "489a72d7",
        "outputId": "1c241047-ef1f-4467-e15c-1c2bca95cc4b"
      },
      "outputs": [
        {
          "name": "stdout",
          "output_type": "stream",
          "text": [
            "False\n"
          ]
        }
      ],
      "source": [
        "print(x1 is not y1)"
      ]
    },
    {
      "cell_type": "code",
      "execution_count": null,
      "id": "d1331ca9",
      "metadata": {
        "id": "d1331ca9",
        "outputId": "c0c20600-c167-4289-ccd0-ef3535e983dd"
      },
      "outputs": [
        {
          "name": "stdout",
          "output_type": "stream",
          "text": [
            "True\n"
          ]
        }
      ],
      "source": [
        "print(x2 is y2\n",
        "    )"
      ]
    },
    {
      "cell_type": "code",
      "execution_count": null,
      "id": "58b4e47d",
      "metadata": {
        "id": "58b4e47d",
        "outputId": "231a1c32-eb95-4ef6-d5c0-df89ac27f9ab"
      },
      "outputs": [
        {
          "name": "stdout",
          "output_type": "stream",
          "text": [
            "False\n"
          ]
        }
      ],
      "source": [
        "print(x3 is y3)"
      ]
    },
    {
      "cell_type": "code",
      "execution_count": null,
      "id": "830e085d",
      "metadata": {
        "id": "830e085d",
        "outputId": "603137c4-ddc4-4ba8-c2d2-c6d1760d7a3f"
      },
      "outputs": [
        {
          "name": "stdout",
          "output_type": "stream",
          "text": [
            "False\n"
          ]
        }
      ],
      "source": [
        "print(x4 is y4)"
      ]
    },
    {
      "cell_type": "code",
      "execution_count": null,
      "id": "11bd79ee",
      "metadata": {
        "id": "11bd79ee",
        "outputId": "509c3377-fa80-4bd6-a9a6-53166bd94424"
      },
      "outputs": [
        {
          "name": "stdout",
          "output_type": "stream",
          "text": [
            "False\n"
          ]
        }
      ],
      "source": [
        "print(x5 is y5)"
      ]
    },
    {
      "cell_type": "code",
      "execution_count": null,
      "id": "bb809787",
      "metadata": {
        "id": "bb809787",
        "outputId": "886b659a-9e83-4210-9432-b33c087eda8e"
      },
      "outputs": [
        {
          "data": {
            "text/plain": [
              "(2630354823920, 2630354823920)"
            ]
          },
          "execution_count": 38,
          "metadata": {},
          "output_type": "execute_result"
        }
      ],
      "source": [
        "id(x1), id(y1) # id will provide the memory reference number"
      ]
    },
    {
      "cell_type": "code",
      "execution_count": null,
      "id": "4d687b13",
      "metadata": {
        "id": "4d687b13",
        "outputId": "751125f3-e336-4c09-9255-6092e829895b"
      },
      "outputs": [
        {
          "data": {
            "text/plain": [
              "(2630432261296, 2630432261296)"
            ]
          },
          "execution_count": 37,
          "metadata": {},
          "output_type": "execute_result"
        }
      ],
      "source": [
        "id(x2), id(y2)"
      ]
    },
    {
      "cell_type": "markdown",
      "id": "a5ef0bcd",
      "metadata": {
        "id": "a5ef0bcd"
      },
      "source": [
        "id(x3), id(y3)"
      ]
    },
    {
      "cell_type": "code",
      "execution_count": null,
      "id": "a3d4d100",
      "metadata": {
        "id": "a3d4d100",
        "outputId": "6f4a39b1-9cb1-4629-f6f1-ba4b453ed9d6"
      },
      "outputs": [
        {
          "data": {
            "text/plain": [
              "(2630427603968, 2630427604544)"
            ]
          },
          "execution_count": 33,
          "metadata": {},
          "output_type": "execute_result"
        }
      ],
      "source": [
        "id(x4), id(y4)"
      ]
    },
    {
      "cell_type": "code",
      "execution_count": null,
      "id": "e428e012",
      "metadata": {
        "scrolled": true,
        "id": "e428e012",
        "outputId": "4fb596e3-f20b-4099-c985-c93d3291669c"
      },
      "outputs": [
        {
          "data": {
            "text/plain": [
              "(2630432906816, 2630432907040)"
            ]
          },
          "execution_count": 34,
          "metadata": {},
          "output_type": "execute_result"
        }
      ],
      "source": [
        "id(x5), id(y5)"
      ]
    },
    {
      "cell_type": "code",
      "execution_count": null,
      "id": "7e417b9f",
      "metadata": {
        "id": "7e417b9f",
        "outputId": "99f18a68-27e0-4731-8961-25484b4d5492"
      },
      "outputs": [
        {
          "data": {
            "text/plain": [
              "(2630354823920, 2630354823920)"
            ]
          },
          "execution_count": 42,
          "metadata": {},
          "output_type": "execute_result"
        }
      ],
      "source": [
        "id(x3[0]), id(y3[0])"
      ]
    },
    {
      "cell_type": "markdown",
      "id": "e0707819",
      "metadata": {
        "id": "e0707819"
      },
      "source": [
        "## Membership operators"
      ]
    },
    {
      "cell_type": "code",
      "execution_count": null,
      "id": "20706736",
      "metadata": {
        "id": "20706736"
      },
      "outputs": [],
      "source": [
        "x ='Hello world'\n",
        "y = {10: 'a', 12: 'b' , 12:'1'}\n"
      ]
    },
    {
      "cell_type": "code",
      "execution_count": null,
      "id": "7ee72afb",
      "metadata": {
        "id": "7ee72afb",
        "outputId": "ff186a72-a2c3-40bc-f9ff-5fda003d6add"
      },
      "outputs": [
        {
          "data": {
            "text/plain": [
              "'1'"
            ]
          },
          "execution_count": 51,
          "metadata": {},
          "output_type": "execute_result"
        }
      ],
      "source": [
        "y[12]"
      ]
    },
    {
      "cell_type": "code",
      "execution_count": null,
      "id": "e1bf8af6",
      "metadata": {
        "id": "e1bf8af6",
        "outputId": "1f7ccd45-3718-402d-8a97-4476bdeb4a90"
      },
      "outputs": [
        {
          "name": "stdout",
          "output_type": "stream",
          "text": [
            "True\n"
          ]
        }
      ],
      "source": [
        "print('H' in x)"
      ]
    },
    {
      "cell_type": "code",
      "execution_count": null,
      "id": "0cabc85c",
      "metadata": {
        "id": "0cabc85c",
        "outputId": "110f63fc-2b2d-4ca4-9d88-174c5ccd0e23"
      },
      "outputs": [
        {
          "name": "stdout",
          "output_type": "stream",
          "text": [
            "True\n"
          ]
        }
      ],
      "source": [
        "print('hello' not in x)"
      ]
    },
    {
      "cell_type": "code",
      "execution_count": null,
      "id": "ec8a1c9a",
      "metadata": {
        "id": "ec8a1c9a",
        "outputId": "833f1dcc-0c86-4c95-a2d8-39a94243084a"
      },
      "outputs": [
        {
          "name": "stdout",
          "output_type": "stream",
          "text": [
            "True\n"
          ]
        }
      ],
      "source": [
        "print(10 in y) # dict will only refer Key"
      ]
    },
    {
      "cell_type": "code",
      "execution_count": null,
      "id": "9ce4b970",
      "metadata": {
        "id": "9ce4b970",
        "outputId": "501e89ed-f83d-43e4-9747-fd8901157643"
      },
      "outputs": [
        {
          "name": "stdout",
          "output_type": "stream",
          "text": [
            "False\n"
          ]
        }
      ],
      "source": [
        "print('a' in y) # dict will not refer value"
      ]
    },
    {
      "cell_type": "markdown",
      "id": "d4213864",
      "metadata": {
        "id": "d4213864"
      },
      "source": [
        "## If statement"
      ]
    },
    {
      "cell_type": "code",
      "execution_count": null,
      "id": "b8f55245",
      "metadata": {
        "id": "b8f55245",
        "outputId": "8867ce9b-3e35-46ba-b789-03efdc047315"
      },
      "outputs": [
        {
          "name": "stdout",
          "output_type": "stream",
          "text": [
            "Enter the value-5\n",
            "Negative\n"
          ]
        }
      ],
      "source": [
        "num = int(input('Enter the value'))\n",
        "if num >= 0:\n",
        "    print('Positive')\n",
        "else:   \n",
        "    print('Negative')"
      ]
    },
    {
      "cell_type": "markdown",
      "id": "179cc9fe",
      "metadata": {
        "id": "179cc9fe"
      },
      "source": [
        "## If else"
      ]
    },
    {
      "cell_type": "code",
      "execution_count": null,
      "id": "46dce074",
      "metadata": {
        "id": "46dce074",
        "outputId": "962a087e-0cbf-4e66-b01e-51fc5a2f5e8f"
      },
      "outputs": [
        {
          "name": "stdout",
          "output_type": "stream",
          "text": [
            "Enter the value0\n",
            "Positive\n"
          ]
        }
      ],
      "source": [
        "num = int(input('Enter the value'))\n",
        "\n",
        "if num >= 0:\n",
        "    print('Positive')\n",
        "elif num == 0:\n",
        "    print('zero')\n",
        "else:   \n",
        "    print('Negative')"
      ]
    },
    {
      "cell_type": "markdown",
      "id": "528d62f5",
      "metadata": {
        "id": "528d62f5"
      },
      "source": [
        "## Nested if"
      ]
    },
    {
      "cell_type": "code",
      "execution_count": null,
      "id": "d7ce6c6b",
      "metadata": {
        "id": "d7ce6c6b",
        "outputId": "8b330456-0e85-4825-dbe4-23a9a194d262"
      },
      "outputs": [
        {
          "name": "stdout",
          "output_type": "stream",
          "text": [
            "Enter the value:0\n",
            "Negative\n"
          ]
        }
      ],
      "source": [
        "num = int(input('Enter the value:'))\n",
        "\n",
        "if num >0:\n",
        "    if num == 0:\n",
        "        print('Zero')\n",
        "    else:\n",
        "        print('Positive')\n",
        "else:\n",
        "    print('Negative')"
      ]
    },
    {
      "cell_type": "markdown",
      "id": "96effb01",
      "metadata": {
        "id": "96effb01"
      },
      "source": [
        "## For loop"
      ]
    },
    {
      "cell_type": "code",
      "execution_count": null,
      "id": "1ae19ac2",
      "metadata": {
        "id": "1ae19ac2"
      },
      "outputs": [],
      "source": [
        "list = [1, 2, 3, 4, 5]"
      ]
    },
    {
      "cell_type": "code",
      "execution_count": null,
      "id": "32698480",
      "metadata": {
        "id": "32698480"
      },
      "outputs": [],
      "source": [
        " del list"
      ]
    },
    {
      "cell_type": "code",
      "execution_count": null,
      "id": "1ba563cd",
      "metadata": {
        "id": "1ba563cd"
      },
      "outputs": [],
      "source": [
        "list1 = [5, 6, 8, 10]"
      ]
    },
    {
      "cell_type": "code",
      "execution_count": null,
      "id": "0b7faa57",
      "metadata": {
        "id": "0b7faa57",
        "outputId": "617ce9e1-c7f8-47a0-a06d-79b7218ee0bc"
      },
      "outputs": [
        {
          "data": {
            "text/plain": [
              "8"
            ]
          },
          "execution_count": 13,
          "metadata": {},
          "output_type": "execute_result"
        }
      ],
      "source": [
        "list1[2]"
      ]
    },
    {
      "cell_type": "code",
      "execution_count": null,
      "id": "954860c4",
      "metadata": {
        "id": "954860c4",
        "outputId": "9e147005-d031-4e83-c7e1-161e3c26cdd9"
      },
      "outputs": [
        {
          "data": {
            "text/plain": [
              "3"
            ]
          },
          "execution_count": 14,
          "metadata": {},
          "output_type": "execute_result"
        }
      ],
      "source": [
        "list[2]"
      ]
    },
    {
      "cell_type": "code",
      "execution_count": null,
      "id": "9686569d",
      "metadata": {
        "id": "9686569d"
      },
      "outputs": [],
      "source": [
        "list[0] =10"
      ]
    },
    {
      "cell_type": "code",
      "execution_count": null,
      "id": "6d48e036",
      "metadata": {
        "id": "6d48e036",
        "outputId": "467809c8-e121-4e8f-9653-5a9a8c5d44d7"
      },
      "outputs": [
        {
          "data": {
            "text/plain": [
              "[10, 2, 3, 4, 5]"
            ]
          },
          "execution_count": 16,
          "metadata": {},
          "output_type": "execute_result"
        }
      ],
      "source": [
        "list"
      ]
    },
    {
      "cell_type": "code",
      "execution_count": null,
      "id": "a23de8e6",
      "metadata": {
        "id": "a23de8e6",
        "outputId": "82d0a5ee-bc4f-4be9-c063-fdcd28779424"
      },
      "outputs": [
        {
          "ename": "TypeError",
          "evalue": "'list' object is not callable",
          "output_type": "error",
          "traceback": [
            "\u001b[1;31m---------------------------------------------------------------------------\u001b[0m",
            "\u001b[1;31mTypeError\u001b[0m                                 Traceback (most recent call last)",
            "\u001b[1;32m~\\AppData\\Local\\Temp/ipykernel_7964/4089855967.py\u001b[0m in \u001b[0;36m<module>\u001b[1;34m\u001b[0m\n\u001b[1;32m----> 1\u001b[1;33m \u001b[0mlist\u001b[0m\u001b[1;33m(\u001b[0m\u001b[1;33m[\u001b[0m\u001b[1;36m1\u001b[0m\u001b[1;33m,\u001b[0m \u001b[1;36m52\u001b[0m\u001b[1;33m,\u001b[0m \u001b[1;36m32\u001b[0m\u001b[1;33m]\u001b[0m\u001b[1;33m)\u001b[0m\u001b[1;33m\u001b[0m\u001b[1;33m\u001b[0m\u001b[0m\n\u001b[0m",
            "\u001b[1;31mTypeError\u001b[0m: 'list' object is not callable"
          ]
        }
      ],
      "source": [
        "list([1, 52, 32])"
      ]
    },
    {
      "cell_type": "code",
      "execution_count": null,
      "id": "595fa0a2",
      "metadata": {
        "id": "595fa0a2"
      },
      "outputs": [],
      "source": [
        "var_list = [5, 21, 63]"
      ]
    },
    {
      "cell_type": "code",
      "execution_count": null,
      "id": "d39637f7",
      "metadata": {
        "id": "d39637f7",
        "outputId": "0033bcee-9a6c-42b5-e9a7-b8f04ddfc3ff"
      },
      "outputs": [
        {
          "data": {
            "text/plain": [
              "list"
            ]
          },
          "execution_count": 24,
          "metadata": {},
          "output_type": "execute_result"
        }
      ],
      "source": [
        "type(var_list)"
      ]
    },
    {
      "cell_type": "code",
      "execution_count": null,
      "id": "267acb5b",
      "metadata": {
        "id": "267acb5b",
        "outputId": "7d018549-5d6b-47af-f491-9a04afad3d80"
      },
      "outputs": [
        {
          "data": {
            "text/plain": [
              "[5, 21, 63]"
            ]
          },
          "execution_count": 36,
          "metadata": {},
          "output_type": "execute_result"
        }
      ],
      "source": [
        "list([5, 21, 63])"
      ]
    },
    {
      "cell_type": "code",
      "execution_count": null,
      "id": "08dc1664",
      "metadata": {
        "id": "08dc1664",
        "outputId": "730b2cbc-6dfd-4777-cc33-2b9f8f3e1abc"
      },
      "outputs": [
        {
          "name": "stdout",
          "output_type": "stream",
          "text": [
            "12\n",
            "25\n",
            "39\n",
            "54\n",
            "The final value of add is 54\n"
          ]
        }
      ],
      "source": [
        "list1 = [12, 13, 14, 15]\n",
        "add = 0\n",
        "\n",
        "for i in list1:\n",
        "    add = add + i\n",
        "    print(add)\n",
        "print('The final value of add is' , add)"
      ]
    },
    {
      "cell_type": "code",
      "execution_count": null,
      "id": "d8b2ce2a",
      "metadata": {
        "id": "d8b2ce2a",
        "outputId": "342f47a6-b5f3-4de6-a39e-aa26a38fd4e9"
      },
      "outputs": [
        {
          "name": "stdout",
          "output_type": "stream",
          "text": [
            "12\n",
            "13\n"
          ]
        }
      ],
      "source": [
        "list1 = [12, 13, 14, 15]\n",
        "add = 0\n",
        "for i in list1:\n",
        "    if i ==14:\n",
        "        break\n",
        "    print(i)"
      ]
    },
    {
      "cell_type": "markdown",
      "id": "c6c991da",
      "metadata": {
        "id": "c6c991da"
      },
      "source": [
        "## Fourth class (13-02-2022)"
      ]
    },
    {
      "cell_type": "code",
      "execution_count": null,
      "id": "43064bdf",
      "metadata": {
        "id": "43064bdf",
        "outputId": "1cd78d81-a1be-43d9-a0d3-ab27a796f6f3"
      },
      "outputs": [
        {
          "data": {
            "text/plain": [
              "3"
            ]
          },
          "execution_count": 3,
          "metadata": {},
          "output_type": "execute_result"
        }
      ],
      "source": [
        "list_city =['Chennai','kolkata','Mumbai']\n",
        "len(list_city)"
      ]
    },
    {
      "cell_type": "code",
      "execution_count": null,
      "id": "cfcbf04e",
      "metadata": {
        "id": "cfcbf04e",
        "outputId": "be80b2f7-4f4f-4614-a5cf-e3425a7e641e"
      },
      "outputs": [
        {
          "name": "stdout",
          "output_type": "stream",
          "text": [
            "I like to go to:  Chennai\n",
            "I like to go to:  kolkata\n",
            "I like to go to:  Mumbai\n"
          ]
        }
      ],
      "source": [
        "for i in range(len(list_city)):\n",
        "    print('I like to go to: ', list_city[i])"
      ]
    },
    {
      "cell_type": "code",
      "execution_count": null,
      "id": "9278a6af",
      "metadata": {
        "id": "9278a6af",
        "outputId": "c67f3111-bbe4-4afe-9268-1b635d30336a"
      },
      "outputs": [
        {
          "name": "stdout",
          "output_type": "stream",
          "text": [
            "I have 1 days\n",
            "I have 10 days\n",
            "I have 100 days\n",
            "Else block\n"
          ]
        }
      ],
      "source": [
        "num =[1, 10, 100]\n",
        "\n",
        "for i in num:\n",
        "    print('I have' , i, 'days')\n",
        "else:\n",
        "    print('Else block')"
      ]
    },
    {
      "cell_type": "code",
      "execution_count": null,
      "id": "556d3562",
      "metadata": {
        "id": "556d3562",
        "outputId": "a2fa5c77-f048-49b0-b29c-b3868656e018"
      },
      "outputs": [
        {
          "name": "stdout",
          "output_type": "stream",
          "text": [
            "the number is:  1\n"
          ]
        }
      ],
      "source": [
        "num =[1, 10, 100]\n",
        "\n",
        "for i in num:\n",
        "    if i==10:\n",
        "        break\n",
        "    print('the number is: ', i)    \n",
        "    \n",
        "else:\n",
        "    print('I have', i, 'days')\n",
        "    "
      ]
    },
    {
      "cell_type": "markdown",
      "id": "8a887210",
      "metadata": {
        "id": "8a887210"
      },
      "source": [
        "\n",
        "## While loop\n"
      ]
    },
    {
      "cell_type": "code",
      "execution_count": null,
      "id": "ff98b23f",
      "metadata": {
        "id": "ff98b23f",
        "outputId": "7b9470cc-ae18-4273-bc8a-bb35b4ac2ad0"
      },
      "outputs": [
        {
          "ename": "IndentationError",
          "evalue": "unexpected indent (Temp/ipykernel_2392/3947194694.py, line 8)",
          "output_type": "error",
          "traceback": [
            "\u001b[1;36m  File \u001b[1;32m\"C:\\Users\\Laksh\\AppData\\Local\\Temp/ipykernel_2392/3947194694.py\"\u001b[1;36m, line \u001b[1;32m8\u001b[0m\n\u001b[1;33m    print(i)\u001b[0m\n\u001b[1;37m    ^\u001b[0m\n\u001b[1;31mIndentationError\u001b[0m\u001b[1;31m:\u001b[0m unexpected indent\n"
          ]
        }
      ],
      "source": [
        "num = int(input('enter the number'))\n",
        "\n",
        "i= 0\n",
        "sum_var = 0\n",
        "\n",
        "while i < num:\n",
        "    sum_var = sum_var + i\n",
        "      print(i)\n",
        "    i= i + 1\n",
        "  \n",
        "\n",
        "    \n",
        "print('the sum of number is :' ,sum_var)\n",
        "\n",
        "    "
      ]
    },
    {
      "cell_type": "markdown",
      "id": "7f1b0f79",
      "metadata": {
        "id": "7f1b0f79"
      },
      "source": [
        "## Break, continue and pass"
      ]
    },
    {
      "cell_type": "code",
      "execution_count": null,
      "id": "43ee046b",
      "metadata": {
        "id": "43ee046b",
        "outputId": "674cc91c-7d5c-40f7-f222-8a9c56e52194"
      },
      "outputs": [
        {
          "ename": "NameError",
          "evalue": "name 'num' is not defined",
          "output_type": "error",
          "traceback": [
            "\u001b[1;31m---------------------------------------------------------------------------\u001b[0m",
            "\u001b[1;31mNameError\u001b[0m                                 Traceback (most recent call last)",
            "\u001b[1;32m~\\AppData\\Local\\Temp/ipykernel_2392/3311301571.py\u001b[0m in \u001b[0;36m<module>\u001b[1;34m\u001b[0m\n\u001b[0;32m      2\u001b[0m \u001b[0msum_var\u001b[0m \u001b[1;33m=\u001b[0m \u001b[1;36m0\u001b[0m\u001b[1;33m\u001b[0m\u001b[1;33m\u001b[0m\u001b[0m\n\u001b[0;32m      3\u001b[0m \u001b[1;33m\u001b[0m\u001b[0m\n\u001b[1;32m----> 4\u001b[1;33m \u001b[1;32mwhile\u001b[0m \u001b[0mi\u001b[0m \u001b[1;33m<\u001b[0m \u001b[0mnum\u001b[0m\u001b[1;33m:\u001b[0m\u001b[1;33m\u001b[0m\u001b[1;33m\u001b[0m\u001b[0m\n\u001b[0m\u001b[0;32m      5\u001b[0m     \u001b[0mi\u001b[0m \u001b[1;33m=\u001b[0m \u001b[0mi\u001b[0m \u001b[1;33m+\u001b[0m \u001b[1;36m1\u001b[0m\u001b[1;33m\u001b[0m\u001b[1;33m\u001b[0m\u001b[0m\n\u001b[0;32m      6\u001b[0m \u001b[1;32melse\u001b[0m\u001b[1;33m:\u001b[0m\u001b[1;33m\u001b[0m\u001b[1;33m\u001b[0m\u001b[0m\n",
            "\u001b[1;31mNameError\u001b[0m: name 'num' is not defined"
          ]
        }
      ],
      "source": [
        "i = 0\n",
        "sum_var = 0\n",
        "\n",
        "while i < num:\n",
        "    i = i + 1\n",
        "else:\n",
        "    print(i)"
      ]
    },
    {
      "cell_type": "code",
      "execution_count": null,
      "id": "455816b7",
      "metadata": {
        "id": "455816b7",
        "outputId": "24a55f75-ce0b-4f51-d66e-7800827e6f93"
      },
      "outputs": [
        {
          "name": "stdout",
          "output_type": "stream",
          "text": [
            "C\n",
            "o\n",
            "u\n",
            "n\n",
            "t\n"
          ]
        }
      ],
      "source": [
        "for i in 'Country':\n",
        "    if i == 'r':\n",
        "        break\n",
        "    print(i)    \n"
      ]
    },
    {
      "cell_type": "code",
      "execution_count": null,
      "id": "01610acb",
      "metadata": {
        "id": "01610acb",
        "outputId": "f174984d-10bf-462b-a2c2-4ada394bcc54"
      },
      "outputs": [
        {
          "name": "stdout",
          "output_type": "stream",
          "text": [
            "C\n",
            "o\n",
            "u\n",
            "n\n",
            "t\n",
            "y\n"
          ]
        }
      ],
      "source": [
        "for i in 'Country':\n",
        "    if i == 'r':\n",
        "        continue\n",
        "    print(i)   "
      ]
    },
    {
      "cell_type": "code",
      "execution_count": null,
      "id": "8d0e70f9",
      "metadata": {
        "id": "8d0e70f9"
      },
      "outputs": [],
      "source": [
        "#pass statement explanation\n",
        "\n",
        "list_var =['p', 'a', 's', 's']\n",
        "\n",
        "for i in list_var:\n",
        "    pass # add some logic later"
      ]
    },
    {
      "cell_type": "markdown",
      "id": "e117d66b",
      "metadata": {
        "id": "e117d66b"
      },
      "source": [
        "## Functions"
      ]
    },
    {
      "cell_type": "code",
      "execution_count": null,
      "id": "7dbd1e57",
      "metadata": {
        "id": "7dbd1e57"
      },
      "outputs": [],
      "source": [
        "def greetings(name):\n",
        "    \"\"\"Function to greet some one\"\"\"\n",
        "    print(\"Hello\", name, \"how're you\")"
      ]
    },
    {
      "cell_type": "code",
      "execution_count": null,
      "id": "6f54579a",
      "metadata": {
        "id": "6f54579a",
        "outputId": "431b0e28-e394-4c77-96fb-ff4dfde7122d"
      },
      "outputs": [
        {
          "name": "stdout",
          "output_type": "stream",
          "text": [
            "Hello guys how're you\n"
          ]
        }
      ],
      "source": [
        "greetings('guys')"
      ]
    },
    {
      "cell_type": "code",
      "execution_count": null,
      "id": "57bf06e3",
      "metadata": {
        "id": "57bf06e3",
        "outputId": "437315b5-d764-424b-ef98-49e8d844afe5"
      },
      "outputs": [
        {
          "name": "stdout",
          "output_type": "stream",
          "text": [
            "Function to greet some one\n"
          ]
        }
      ],
      "source": [
        "print(greetings.__doc__)"
      ]
    },
    {
      "cell_type": "code",
      "execution_count": null,
      "id": "62034008",
      "metadata": {
        "id": "62034008"
      },
      "outputs": [],
      "source": [
        "def absolute_val(value):\n",
        "    \"\"\"Funtion to reture the absolute value\"\"\"\n",
        "    if value >0:\n",
        "        return value\n",
        "    else:\n",
        "        return - value\n"
      ]
    },
    {
      "cell_type": "code",
      "execution_count": null,
      "id": "e7afcd43",
      "metadata": {
        "id": "e7afcd43",
        "outputId": "0c1bc1ac-cbfb-4103-b10e-662f4da755c2"
      },
      "outputs": [
        {
          "data": {
            "text/plain": [
              "50"
            ]
          },
          "execution_count": 20,
          "metadata": {},
          "output_type": "execute_result"
        }
      ],
      "source": [
        "absolute_val(-50)"
      ]
    },
    {
      "cell_type": "code",
      "execution_count": null,
      "id": "8651cf68",
      "metadata": {
        "id": "8651cf68",
        "outputId": "044159f3-d57a-4cfc-b226-a2ecaf6307c1"
      },
      "outputs": [
        {
          "name": "stdout",
          "output_type": "stream",
          "text": [
            "Inside the funtion 10\n",
            "outside the function 20\n"
          ]
        }
      ],
      "source": [
        "def func():\n",
        "    a=10 #local variable\n",
        "    print('Inside the funtion', a)\n",
        "a=20 #global variable\n",
        "func()\n",
        "\n",
        "print('outside the function', a)"
      ]
    },
    {
      "cell_type": "markdown",
      "id": "eafc0443",
      "metadata": {
        "id": "eafc0443"
      },
      "source": [
        "## Function arguments"
      ]
    },
    {
      "cell_type": "markdown",
      "id": "1d9d967f",
      "metadata": {
        "id": "1d9d967f"
      },
      "source": [
        "### positional arguments"
      ]
    },
    {
      "cell_type": "code",
      "execution_count": null,
      "id": "4c54ec92",
      "metadata": {
        "id": "4c54ec92"
      },
      "outputs": [],
      "source": [
        "def greet(arg1, arg2):\n",
        "    \"\"\" Function with arguments\"\"\"\n",
        "    print(arg1, arg2, 'everyone!')"
      ]
    },
    {
      "cell_type": "code",
      "execution_count": null,
      "id": "76f71a5c",
      "metadata": {
        "id": "76f71a5c",
        "outputId": "7644c4ee-3e57-43df-ab95-8ffc1421ab11"
      },
      "outputs": [
        {
          "name": "stdout",
          "output_type": "stream",
          "text": [
            "Good Evening everyone!\n"
          ]
        }
      ],
      "source": [
        "greet('Good','Evening')"
      ]
    },
    {
      "cell_type": "markdown",
      "id": "8cd3da7c",
      "metadata": {
        "id": "8cd3da7c"
      },
      "source": [
        "### Default arguments"
      ]
    },
    {
      "cell_type": "code",
      "execution_count": null,
      "id": "692e5c70",
      "metadata": {
        "id": "692e5c70"
      },
      "outputs": [],
      "source": [
        "def greet(arg1, arg2 = \"Good morning\"):\n",
        "    print(\"Hello\",arg1,arg2)"
      ]
    },
    {
      "cell_type": "code",
      "execution_count": null,
      "id": "7deaad85",
      "metadata": {
        "id": "7deaad85",
        "outputId": "62cbedc6-8d0f-4d66-d991-09dce5925f81"
      },
      "outputs": [
        {
          "name": "stdout",
          "output_type": "stream",
          "text": [
            "Hello people Good morning\n"
          ]
        }
      ],
      "source": [
        "greet('people')"
      ]
    },
    {
      "cell_type": "code",
      "execution_count": null,
      "id": "5785d7c0",
      "metadata": {
        "id": "5785d7c0",
        "outputId": "64ab324a-753f-41b9-9b1e-97a0b2c02bd2"
      },
      "outputs": [
        {
          "name": "stdout",
          "output_type": "stream",
          "text": [
            "Hello people How are you\n"
          ]
        }
      ],
      "source": [
        "greet('people',\"How are you\")"
      ]
    },
    {
      "cell_type": "code",
      "execution_count": null,
      "id": "196e3228",
      "metadata": {
        "id": "196e3228",
        "outputId": "671461b0-6532-49e3-cde4-4740bdcf6c9a"
      },
      "outputs": [
        {
          "ename": "SyntaxError",
          "evalue": "non-default argument follows default argument (Temp/ipykernel_5620/2419687821.py, line 1)",
          "output_type": "error",
          "traceback": [
            "\u001b[1;36m  File \u001b[1;32m\"C:\\Users\\Laksh\\AppData\\Local\\Temp/ipykernel_5620/2419687821.py\"\u001b[1;36m, line \u001b[1;32m1\u001b[0m\n\u001b[1;33m    def greet(arg2 =\" Good Morning\", arg1):\u001b[0m\n\u001b[1;37m                                         ^\u001b[0m\n\u001b[1;31mSyntaxError\u001b[0m\u001b[1;31m:\u001b[0m non-default argument follows default argument\n"
          ]
        }
      ],
      "source": [
        "def greet(arg2 =\" Good Morning\", arg1):\n",
        "    print(\"hello\", arg2, arg1)"
      ]
    },
    {
      "cell_type": "code",
      "execution_count": null,
      "id": "cd5aa028",
      "metadata": {
        "id": "cd5aa028",
        "outputId": "50d9b097-18dd-4a91-c7ed-de1e06ec287b"
      },
      "outputs": [
        {
          "ename": "SyntaxError",
          "evalue": "non-default argument follows default argument (Temp/ipykernel_5620/3991349332.py, line 1)",
          "output_type": "error",
          "traceback": [
            "\u001b[1;36m  File \u001b[1;32m\"C:\\Users\\Laksh\\AppData\\Local\\Temp/ipykernel_5620/3991349332.py\"\u001b[1;36m, line \u001b[1;32m1\u001b[0m\n\u001b[1;33m    def greet(arg2 =\" Good Morning\", arg1):\u001b[0m\n\u001b[1;37m                                         ^\u001b[0m\n\u001b[1;31mSyntaxError\u001b[0m\u001b[1;31m:\u001b[0m non-default argument follows default argument\n"
          ]
        }
      ],
      "source": [
        "def greet(arg2 =\" Good Morning\", arg1):\n",
        "    print(\"hello\", arg2)\n"
      ]
    },
    {
      "cell_type": "markdown",
      "id": "1b0f81f6",
      "metadata": {
        "id": "1b0f81f6"
      },
      "source": [
        "## Keyword Arguments"
      ]
    },
    {
      "cell_type": "code",
      "execution_count": null,
      "id": "7640987e",
      "metadata": {
        "id": "7640987e",
        "outputId": "d6efbacb-21ce-49ff-db6c-c72685cba5ef"
      },
      "outputs": [
        {
          "name": "stdout",
          "output_type": "stream",
          "text": [
            "Hello Hi Everyone\n",
            "Hello Hi everyone\n",
            "Hello Hi Everyone\n"
          ]
        }
      ],
      "source": [
        "greet(arg1 = \"Hi\", arg2 =\"Everyone\")\n",
        "greet(arg2 = \"everyone\", arg1 =\"Hi\")\n",
        "greet(\"Hi\", arg2 =\"Everyone\")"
      ]
    },
    {
      "cell_type": "code",
      "execution_count": null,
      "id": "19d183dd",
      "metadata": {
        "id": "19d183dd",
        "outputId": "ddc68b19-0693-4d5a-c257-e718c58cbb8f"
      },
      "outputs": [
        {
          "name": "stdout",
          "output_type": "stream",
          "text": [
            "arg1 Hi\n"
          ]
        }
      ],
      "source": [
        "greet(\"Hi\", \"Everyone\")"
      ]
    },
    {
      "cell_type": "markdown",
      "id": "49901b20",
      "metadata": {
        "id": "49901b20"
      },
      "source": [
        " ## Recursion"
      ]
    },
    {
      "cell_type": "code",
      "execution_count": null,
      "id": "3d35abd4",
      "metadata": {
        "id": "3d35abd4"
      },
      "outputs": [],
      "source": [
        "factorial of a number\n",
        "5!\n",
        "\n"
      ]
    },
    {
      "cell_type": "code",
      "execution_count": null,
      "id": "349bb8ea",
      "metadata": {
        "id": "349bb8ea",
        "outputId": "794a67ba-de99-44d9-df09-7d7eeb81b731"
      },
      "outputs": [
        {
          "data": {
            "text/plain": [
              "120"
            ]
          },
          "execution_count": 59,
          "metadata": {},
          "output_type": "execute_result"
        }
      ],
      "source": [
        "5 * 4 * 3 * 2 * 1"
      ]
    },
    {
      "cell_type": "code",
      "execution_count": null,
      "id": "b635613e",
      "metadata": {
        "id": "b635613e",
        "outputId": "a22cb96b-5765-449d-dde7-cd3677711df2"
      },
      "outputs": [
        {
          "name": "stdout",
          "output_type": "stream",
          "text": [
            "Factorial of 5 is 120\n"
          ]
        }
      ],
      "source": [
        "def recursion(x):\n",
        "    if x == 1:\n",
        "        return x\n",
        "    else:\n",
        "        return (x * recursion(x-1))\n",
        "x = 5\n",
        "print('Factorial of', x, 'is', recursion(x))"
      ]
    },
    {
      "cell_type": "markdown",
      "id": "cdf30646",
      "metadata": {
        "id": "cdf30646"
      },
      "source": [
        "## Lambda Function - Anonymous funtion"
      ]
    },
    {
      "cell_type": "code",
      "execution_count": null,
      "id": "8f22d68c",
      "metadata": {
        "id": "8f22d68c",
        "outputId": "9fa136b3-617d-49d5-bf5c-fec55c39d67a"
      },
      "outputs": [
        {
          "data": {
            "text/plain": [
              "8"
            ]
          },
          "execution_count": 68,
          "metadata": {},
          "output_type": "execute_result"
        }
      ],
      "source": [
        "cube = lambda x : x * x * x\n",
        "cube(2)\n"
      ]
    },
    {
      "cell_type": "code",
      "execution_count": null,
      "id": "537ac784",
      "metadata": {
        "id": "537ac784",
        "outputId": "d2044cba-3675-4e4c-f1c8-e068b1d3719a"
      },
      "outputs": [
        {
          "data": {
            "text/plain": [
              "500.0"
            ]
          },
          "execution_count": 70,
          "metadata": {},
          "output_type": "execute_result"
        }
      ],
      "source": [
        "cube = lambda x, y : (x* x * x) /(y) \n",
        "cube(10,2)"
      ]
    },
    {
      "cell_type": "markdown",
      "id": "0a9ec58c",
      "metadata": {
        "id": "0a9ec58c"
      },
      "source": [
        "## Filter"
      ]
    },
    {
      "cell_type": "markdown",
      "id": "41f4d84b",
      "metadata": {
        "id": "41f4d84b"
      },
      "source": [
        "- Filter takes in a funtion and a list of argument\n",
        "- The function is called with the items in the list, and a new list is returned containing the items for which the functions evalutes to True"
      ]
    },
    {
      "cell_type": "code",
      "execution_count": null,
      "id": "e70a172e",
      "metadata": {
        "id": "e70a172e",
        "outputId": "b2a41a33-f6ea-4b37-cd01-406791f6a010"
      },
      "outputs": [
        {
          "name": "stdout",
          "output_type": "stream",
          "text": [
            "[0, 1, 2, 3, 4, 5, 6, 7, 8, 9]\n"
          ]
        }
      ],
      "source": [
        "my_list = list(range(10))\n",
        "print(my_list)"
      ]
    },
    {
      "cell_type": "code",
      "execution_count": null,
      "id": "4e75faab",
      "metadata": {
        "id": "4e75faab",
        "outputId": "080b9772-84bd-4d11-bb9c-af1d1293d62c"
      },
      "outputs": [
        {
          "name": "stdout",
          "output_type": "stream",
          "text": [
            "Applyting the filter operation: [0, 2, 4, 6, 8]\n"
          ]
        }
      ],
      "source": [
        "fil = list(filter(lambda x :x % 2 == 0, my_list))\n",
        "print('Applyting the filter operation:',fil)"
      ]
    },
    {
      "cell_type": "markdown",
      "id": "02df3f12",
      "metadata": {
        "id": "02df3f12"
      },
      "source": [
        "## Map"
      ]
    },
    {
      "cell_type": "markdown",
      "id": "c3ab7231",
      "metadata": {
        "id": "c3ab7231"
      },
      "source": [
        "- Filter takes in a funtion and a list of argumenent\n",
        "- Every items in the list will be returned based on the funtion that we're performing\n"
      ]
    },
    {
      "cell_type": "code",
      "execution_count": null,
      "id": "fe94dc73",
      "metadata": {
        "id": "fe94dc73",
        "outputId": "4e7fcab9-0b9f-4804-9a7e-bcaaafb43a1c"
      },
      "outputs": [
        {
          "name": "stdout",
          "output_type": "stream",
          "text": [
            "[2, 10, 8, 12, 16, 22, 6, 24]\n"
          ]
        }
      ],
      "source": [
        "my_list = [1, 5, 4, 6, 8, 11, 3, 12]\n",
        "new_list = list(map(lambda x: x * 2, my_list))\n",
        "print(new_list)\n"
      ]
    },
    {
      "cell_type": "code",
      "execution_count": null,
      "id": "1692eee2",
      "metadata": {
        "id": "1692eee2",
        "outputId": "2f75e4ba-c386-47f5-f33c-853902ea83bf"
      },
      "outputs": [
        {
          "name": "stdout",
          "output_type": "stream",
          "text": [
            "['A', 'B', 'C']\n"
          ]
        }
      ],
      "source": [
        "fill1 = list(map(lambda x : x.upper(),['a','b','c']))\n",
        "print(fill1)"
      ]
    },
    {
      "cell_type": "code",
      "execution_count": null,
      "id": "086dd9e9",
      "metadata": {
        "id": "086dd9e9",
        "outputId": "4e877e1b-355f-46e5-ec24-ee7e49f24842"
      },
      "outputs": [
        {
          "name": "stdout",
          "output_type": "stream",
          "text": [
            "[20, 30, 40, 50]\n"
          ]
        }
      ],
      "source": [
        "my_dict = {10: 'B', 20: 'A', 30: 'A', 40: 'B', 50: 'A'}  \n",
        "filt1 = list((filter(lambda x : x > 10,my_dict)))\n",
        "print(filt1)"
      ]
    },
    {
      "cell_type": "code",
      "execution_count": null,
      "id": "e903ed78",
      "metadata": {
        "id": "e903ed78",
        "outputId": "13ffb488-a03a-4014-95fe-0f6f9b85a300"
      },
      "outputs": [
        {
          "name": "stdout",
          "output_type": "stream",
          "text": [
            "['a', 'e']\n"
          ]
        }
      ],
      "source": [
        "def fun(var):\n",
        "    letters = ['a', 'e', 'i', 'o', 'u']\n",
        "    if (var in letters):\n",
        "        return True\n",
        "    else:\n",
        "        return False\n",
        "seq = ['a', 'b', 'c', 'd', 'e']\n",
        "fil = list(filter(fun,seq))\n",
        "print (fil)"
      ]
    },
    {
      "cell_type": "code",
      "execution_count": null,
      "id": "4714748e",
      "metadata": {
        "id": "4714748e"
      },
      "outputs": [],
      "source": [
        ""
      ]
    },
    {
      "cell_type": "code",
      "execution_count": null,
      "id": "a5195b96",
      "metadata": {
        "id": "a5195b96"
      },
      "outputs": [],
      "source": [
        ""
      ]
    },
    {
      "cell_type": "code",
      "execution_count": null,
      "id": "6446be15",
      "metadata": {
        "id": "6446be15"
      },
      "outputs": [],
      "source": [
        ""
      ]
    },
    {
      "cell_type": "code",
      "execution_count": null,
      "id": "3a1e76fa",
      "metadata": {
        "id": "3a1e76fa"
      },
      "outputs": [],
      "source": [
        ""
      ]
    },
    {
      "cell_type": "code",
      "execution_count": null,
      "id": "2a84b3d9",
      "metadata": {
        "id": "2a84b3d9"
      },
      "outputs": [],
      "source": [
        ""
      ]
    },
    {
      "cell_type": "code",
      "execution_count": null,
      "id": "b6145eed",
      "metadata": {
        "id": "b6145eed"
      },
      "outputs": [],
      "source": [
        ""
      ]
    },
    {
      "cell_type": "code",
      "execution_count": null,
      "id": "8cef3642",
      "metadata": {
        "id": "8cef3642"
      },
      "outputs": [],
      "source": [
        ""
      ]
    },
    {
      "cell_type": "code",
      "execution_count": null,
      "id": "d3d46d8d",
      "metadata": {
        "id": "d3d46d8d"
      },
      "outputs": [],
      "source": [
        ""
      ]
    },
    {
      "cell_type": "code",
      "execution_count": null,
      "id": "e803de8b",
      "metadata": {
        "id": "e803de8b"
      },
      "outputs": [],
      "source": [
        ""
      ]
    },
    {
      "cell_type": "code",
      "execution_count": null,
      "id": "d3a8ea56",
      "metadata": {
        "id": "d3a8ea56"
      },
      "outputs": [],
      "source": [
        ""
      ]
    },
    {
      "cell_type": "code",
      "execution_count": null,
      "id": "d8be5e18",
      "metadata": {
        "id": "d8be5e18"
      },
      "outputs": [],
      "source": [
        ""
      ]
    },
    {
      "cell_type": "code",
      "execution_count": null,
      "id": "f66f3209",
      "metadata": {
        "id": "f66f3209"
      },
      "outputs": [],
      "source": [
        ""
      ]
    }
  ],
  "metadata": {
    "kernelspec": {
      "display_name": "Python 3 (ipykernel)",
      "language": "python",
      "name": "python3"
    },
    "language_info": {
      "codemirror_mode": {
        "name": "ipython",
        "version": 3
      },
      "file_extension": ".py",
      "mimetype": "text/x-python",
      "name": "python",
      "nbconvert_exporter": "python",
      "pygments_lexer": "ipython3",
      "version": "3.9.7"
    },
    "colab": {
      "name": "Untitled-Copy1.ipynb",
      "provenance": [],
      "include_colab_link": true
    }
  },
  "nbformat": 4,
  "nbformat_minor": 5
}